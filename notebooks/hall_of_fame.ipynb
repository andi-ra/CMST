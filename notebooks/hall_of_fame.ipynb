{
 "cells": [
  {
   "cell_type": "markdown",
   "metadata": {
    "collapsed": true,
    "pycharm": {
     "name": "#%% md\n"
    }
   },
   "source": [
    "# Hall of fame\n",
    "Questo notebook descrive il modulo deputato a salvare le migliori soluzioni mai viste e a raccoglierle fino alla presentazione finale.\n",
    "\n",
    "È composto dai seguenti attributi:\n",
    "> 1. individuals: coda degli individui migliori (vedi l'implementazione dell'[individuo](individual.ipynb))\n",
    "> 2. size: dimensione della HOF (quante soluzioni considero le migliori)\n",
    "> 3. paths: lista in cui aggrego tutti gli MST migliori (utile per la visualizzazione)\n",
    "\n",
    "Essendo l'oggetto Hall of Fame un semplice contenitore delle soluzioni migliori, la sua implementazione è piuttosto semplice. Tutto\n",
    "ruota attorno alla coda `individuals` e definisco solo le seguenti operazioni:\n",
    "\n",
    "### Add"
   ]
  },
  {
   "cell_type": "code",
   "execution_count": 1,
   "outputs": [
    {
     "name": "stdout",
     "output_type": "stream",
     "text": [
      "    def add(self, individual):\n",
      "        \"\"\"\n",
      "        Aggiungi un nuovo membro alla hall of fame. Ho osservato una nuova soluzione e devo valutare se è il caso di\n",
      "        immetterlo nella hall of fame. Creo una coda ordinata (in ordine di fitness), inserisco gli individui mai visti\n",
      "        e quelli vecchi e poiché le dimensioni fra HOF e popolazione potrebbero essere diverse, fintanto che una delle\n",
      "        due non è vuota continua a immettere gli elementi dalla coda di appoggio alla HOF.\n",
      "\n",
      "        :type individual: Individual\n",
      "        :param individual: Individuo da aggiungere nella HOF\n",
      "        :return:\n",
      "        \"\"\"\n",
      "        temp = q.PriorityQueue()\n",
      "        while not self.individuals.empty():\n",
      "            old_ind = self.individuals.get()\n",
      "            if individual == old_ind:\n",
      "                continue\n",
      "            temp.put(old_ind)\n",
      "        # Se nella coda temporanea non c'è questo individuo allora aggiungi\n",
      "        temp.put(individual)\n",
      "        # Finché hai individui a disposizione e posto nella coda hall of fame, aggiungi in ordine di fitness\n",
      "        while not self.individuals.full() and not temp.empty():\n",
      "            self.individuals.put(temp.get())\n",
      "\n"
     ]
    }
   ],
   "source": [
    "import inspect\n",
    "\n",
    "from CMST_package.hall_of_fame import Hof\n",
    "lines = inspect.getsource(Hof.add)\n",
    "print(lines)"
   ],
   "metadata": {
    "collapsed": false,
    "pycharm": {
     "name": "#%%\n"
    }
   }
  },
  {
   "cell_type": "markdown",
   "source": [
    "Possiamo dire che qui c'è semplicemente un algoritmo che popola una coda con priorità i cui l'ordine è basato sulla fitness. Si distringuono\n",
    "i casi in cui sia la coda sia vuota (prima inizializzazione) e il caso in cui sia piena (nel ciclo evolutivo).\n",
    "Per l'implementazione ed una spiegazione dettagliata del codice fare riferimento alla documentazione.\n",
    "\n",
    "### Update\n",
    "Questa funzioe è un po' più interessante in quanto qui si vede l'operazione di selezione dei migliori. Questa operazione viene fatta\n",
    "prendendo la polazione, ordinandola in base alla fitness e poi selezionando (con uno slicing) i primi `size` elementi e infine\n",
    "questi li rimetto nella coda delle migliori soluzioni.\n",
    "Con una strutta dati del genere sono sicuro che i primi elementi saranno i migliori, questo torna utile nella visualizzazione finale."
   ],
   "metadata": {
    "collapsed": false
   }
  },
  {
   "cell_type": "code",
   "execution_count": 2,
   "outputs": [
    {
     "name": "stdout",
     "output_type": "stream",
     "text": [
      "    def update(self, population):\n",
      "        \"\"\"\n",
      "        Aggiorna la hall of fame poiché è cambiata la popolazione a seguito di un ciclo evolutivo. Il procedimento è il\n",
      "        seguente:\n",
      "        1. Ordina la popolazione in base alla fitness\n",
      "        2. Seleziona i migliori individui (i quali stanno in cima alla coda)\n",
      "        3. Per ognuno di questi individui migliori rimettili nella hall of fame\n",
      "\n",
      "        :type population: list\n",
      "        :param population: popolazione su cui valutare la hall of fame\n",
      "        :return:\n",
      "        \"\"\"\n",
      "        population.sort()\n",
      "        best_candidates = population[0:self.size]  # Slicing della lista e selezione dei migliori (da 0 a N)\n",
      "        for individual in best_candidates:\n",
      "            self.add(individual)\n",
      "\n"
     ]
    }
   ],
   "source": [
    "lines = inspect.getsource(Hof.update)\n",
    "print(lines)\n"
   ],
   "metadata": {
    "collapsed": false,
    "pycharm": {
     "name": "#%%\n"
    }
   }
  }
 ],
 "metadata": {
  "kernelspec": {
   "display_name": "Python 3",
   "language": "python",
   "name": "python3"
  },
  "language_info": {
   "codemirror_mode": {
    "name": "ipython",
    "version": 2
   },
   "file_extension": ".py",
   "mimetype": "text/x-python",
   "name": "python",
   "nbconvert_exporter": "python",
   "pygments_lexer": "ipython2",
   "version": "2.7.6"
  }
 },
 "nbformat": 4,
 "nbformat_minor": 0
}