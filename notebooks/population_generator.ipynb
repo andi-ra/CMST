{
 "cells": [
  {
   "cell_type": "markdown",
   "metadata": {
    "collapsed": true,
    "pycharm": {
     "name": "#%% md\n"
    }
   },
   "source": [
    "# Generatore della popolazione\n",
    "\n",
    "Questo modulo contiene tutte le funzioni necessarie all'algoritmo genetico. Non prevedo un oggetto \"problema\" con cui agganciare tutti i metodi o gli attributi ma sono\n",
    "distribuiti nel file.\n",
    "\n",
    "## Funzione fitness\n",
    "\n",
    "Definisco la fitness come il costo associato alla soluzione albero nel seguente modo:\n",
    "\n",
    "$\\sum_{(i,j) \\in A} c_{ij}x_{ij} + \\delta(c_{max}(R(\\mathbf{x}) - R_0)^2)$\n",
    "\n",
    "$ \\delta =  \\begin{cases}\n",
    "      0 & R(\\mathbf{x}) < R_0 \\\\\n",
    "      1 & R(\\mathbf{x}) \\ge R_0\n",
    "   \\end{cases} $\n",
    "\n",
    "$ c_{max} = max(c_{ij}) \\qquad R_0 $ è il target di capacità massima che voglio per ogni arco\n",
    "\n",
    "Sia dato un grafo $ G = (N, A) $ e un albero di copertura $T \\subset A $. Definiamo la funzione $R(\\mathbf{x}) : A \\rightarrow \\Re $ con $ \\mathbf{x} \\in T$\n",
    "vettore di archi, come la funzione di conteggio dei nodi che vengono serviti da un certo arco $ x_{ij} $, gli archi appartengono tutti all'albero $T$ sotto esame.\n",
    "Questa funzione mi dice qual è il numero totale di nodi che un certo arco sta servendo.\n",
    "\n",
    "Questa formulazione può essere vista come una formulazione rilassata di quella originale. In particolare ho rilassato con la variabile indicatore il vincolo del\n",
    "rispetto della capacità. Come descritto sopra ho usato una funzione di accumulazione  $ R(\\mathbf{x}) $ e non più la formulazione classica basata su archi.\n",
    "\n",
    "Poiché nella formulazione originale i vincoli accoppianti erano proprio quelli di capacità e sono sempre questi che rendono il problema NP-hard, è naturale lavorare\n",
    "principalmente su questo vincoli e poi pensare all'interezza delle variabili (si veda la formulazione nel file [principale](main_pipeline.ipynb)).\n",
    "\n",
    "Se considerassi $\\delta$ come una sorta di moltiplicatore di Lagrange frutto del rilassamento (col quale penalizzo il non rispetto del vincolo $ R(\\mathbf{x}) < R_0 $)\n",
    "allora ha senso inserire il termine $\\delta(c_{max}(R(\\mathbf{x}) - R_0)^2)$ come penalità nella funzione fitness."
   ]
  }
 ],
 "metadata": {
  "kernelspec": {
   "display_name": "Python 3",
   "language": "python",
   "name": "python3"
  },
  "language_info": {
   "codemirror_mode": {
    "name": "ipython",
    "version": 2
   },
   "file_extension": ".py",
   "mimetype": "text/x-python",
   "name": "python",
   "nbconvert_exporter": "python",
   "pygments_lexer": "ipython2",
   "version": "2.7.6"
  }
 },
 "nbformat": 4,
 "nbformat_minor": 0
}