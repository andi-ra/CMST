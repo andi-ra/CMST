{
 "cells": [
  {
   "cell_type": "markdown",
   "metadata": {
    "collapsed": true,
    "pycharm": {
     "name": "#%% md\n"
    }
   },
   "source": [
    "# Codifica dell'individuo\n",
    "\n",
    "Nel rappresentare una soluzione bisogna usare una struttura a grafo, più precisamente uno spanning tree con il costo globalmente minore e che rispetti il vincolo di capacità.\n",
    "\n",
    "## Descrizione strutture dati\n",
    "\n",
    "Per fare ciò uso l'oggetto `individual` che rappresenta un individuo della popolazione. Ogni oggetto contiene al suo interno:\n",
    "- __tree__ che è la lista di tuple che implementa l'albero\n",
    "- __fitness__ che rappresenta la fitness della soluzione\n",
    "- __optim_type__ flag che indica se sto minimizzando o massimizzando\n",
    "- __genotype__ lista di interi a lunghezza variabile che rappresenta la rete\n",
    "\n",
    "## Aspetti salienti\n",
    "La scopo principale dell'oggetto `individual` è quello di rappresentarmi la rete in modo maneggiabile. Per farlo creo la rete e la memorizzo nell'attributo _genotype_, così che\n",
    "ogni individuo sia (all'inizio) una rete completa e poi a fine elaborazione un grafo (sperabilmente) soluzione.\n",
    "Ogni link possibile gli viene assegnato un intero che segnala la presenza dell'arco. Non solo questo intero segnala la presenza dell'arco ma rappresenta anche il\n",
    "peso dell'arco stesso nella lista _ordinata_. Ogni lista può definire in modo univoco quali collegamenti esistono e quali no.\n",
    "\n",
    "Mi appresto a dimostrare la seguente proposizione: la rappresentazione genoma <-> grafo è biunivoca e corretta.\n",
    "Questa proposizione implica che è possibile partire da una rappresentazione (compatibile con le librerie usate) sotto forma di grafo, ed arrivare ad una\n",
    "rappresentazione sotto forma di genoma (cioè lista di interi a lunghezza variabile) _e_ _viceversa_.\n",
    "### dimostrazione"
   ]
  },
  {
   "cell_type": "code",
   "execution_count": 1,
   "metadata": {
    "pycharm": {
     "name": "#%%\n"
    }
   },
   "outputs": [],
   "source": [
    "import numpy as np\n",
    "from CMST_package.individual import Individual\n",
    "from CMST_package.population_generator import draw_graph\n",
    "import networkx as nx"
   ]
  },
  {
   "cell_type": "markdown",
   "metadata": {
    "pycharm": {
     "name": "#%% md\n"
    }
   },
   "source": [
    "Costruisco il grafo assegnando come peso (ed etichetta identificativa) la coppia nodo-sorgente/nodo-destinatario dunque $ C_{ij} = sorgente|destinazione $"
   ]
  },
  {
   "cell_type": "code",
   "execution_count": 2,
   "metadata": {
    "pycharm": {
     "name": "#%%\n"
    }
   },
   "outputs": [],
   "source": [
    "G = nx.complete_graph(6)\n",
    "G[0][1]['weight'] = \"01\"\n",
    "G[0][2]['weight'] = \"02\"\n",
    "G[0][3]['weight'] = \"03\"\n",
    "G[0][4]['weight'] = \"04\"\n",
    "G[0][5]['weight'] = \"05\"\n",
    "G[1][2]['weight'] = \"12\"\n",
    "G[1][3]['weight'] = \"13\"\n",
    "G[1][4]['weight'] = \"14\"\n",
    "G[1][5]['weight'] = \"15\"\n",
    "G[2][3]['weight'] = \"23\"\n",
    "G[2][4]['weight'] = \"24\"\n",
    "G[2][5]['weight'] = \"25\"\n",
    "G[3][4]['weight'] = \"34\"\n",
    "G[3][5]['weight'] = \"35\"\n",
    "G[4][5]['weight'] = \"45\""
   ]
  },
  {
   "cell_type": "markdown",
   "metadata": {
    "pycharm": {
     "name": "#%% md\n"
    }
   },
   "source": [
    "Creo e visualizzo il grafo full mesh con $ n*(n-1) $ archi, dove $ n $ è il numero di nodi nella rete, in questo caso 6. per cambiare numero nodi, modificare la sezione precedente."
   ]
  },
  {
   "cell_type": "code",
   "execution_count": 3,
   "metadata": {
    "pycharm": {
     "name": "#%%\n"
    }
   },
   "outputs": [
    {
     "data": {
      "image/png": "[encoded data removed]",
      "text/plain": [
       "<Figure size 432x288 with 1 Axes>"
      ]
     },
     "metadata": {},
     "output_type": "display_data"
    },
    {
     "data": {
      "text/plain": [
       "<Figure size 864x864 with 0 Axes>"
      ]
     },
     "metadata": {},
     "output_type": "display_data"
    }
   ],
   "source": [
    "draw_graph(G, 0)"
   ]
  },
  {
   "cell_type": "markdown",
   "metadata": {
    "pycharm": {
     "name": "#%% md\n"
    }
   },
   "source": [
    "A questo punto genero la lista di adiacenza in modo da facilitare la conversione in lista normale. Segue poi la visualizzazione della lista di adiacenza."
   ]
  },
  {
   "cell_type": "code",
   "execution_count": 4,
   "metadata": {
    "pycharm": {
     "name": "#%%\n"
    }
   },
   "outputs": [
    {
     "name": "stdout",
     "output_type": "stream",
     "text": [
      "Matrice di adiacenza: \n",
      "Il nodo 0 è connesso con i seguenti nodi: \t0 1 2 3 4 5\n",
      "Il nodo 1 è connesso con i seguenti nodi: \t1 2 3 4 5\n",
      "Il nodo 2 è connesso con i seguenti nodi: \t2 3 4 5\n",
      "Il nodo 3 è connesso con i seguenti nodi: \t3 4 5\n",
      "Il nodo 4 è connesso con i seguenti nodi: \t4 5\n",
      "Il nodo 5 è connesso con i seguenti nodi: \t5\n"
     ]
    }
   ],
   "source": [
    "print(\"Matrice di adiacenza: \")\n",
    "adj_list = nx.generate_adjlist(G)\n",
    "\n",
    "string = \"\"\n",
    "i = 0\n",
    "for arc in adj_list:\n",
    "    print(\"Il nodo {0} è connesso con i seguenti nodi: \\t{1}\".format(i, arc))\n",
    "    string += arc\n",
    "    i += 1"
   ]
  },
  {
   "cell_type": "markdown",
   "metadata": {
    "pycharm": {
     "name": "#%% md\n"
    }
   },
   "source": [
    "Da notare come la matrice sia triangolare, questo poiché il grafo è _non_ orientato e quindi la lista di adiacenza stampata in forma matriciale non riporta gli\n",
    "archi in verso opposto. Attenzione alla prima colonna, quelli sono tutti collegamenti loopback, nella matrice di adiacenza sarebbero sulla diagonale. In questo caso\n",
    "non vengono considerati e in seguito verranno scartati.\n",
    "\n",
    "Ora proseguo con il mostrare come convertire questa rappresentazione lista-adiacenza in genoma in step successivi:\n",
    "    1. Reshaping della lista di adiacenza in un vettore 1-d"
   ]
  },
  {
   "cell_type": "code",
   "execution_count": 5,
   "metadata": {
    "pycharm": {
     "name": "#%%\n"
    }
   },
   "outputs": [
    {
     "name": "stdout",
     "output_type": "stream",
     "text": [
      "La lista srotolata in formato simil-genoma è: \n",
      "\t['0', '1', '2', '3', '4', '5', '1', '2', '3', '4', '5', '2', '3', '4', '5', '3', '4', '5', '4', '5', '5']\n"
     ]
    }
   ],
   "source": [
    "lista = [item for item in string if item != ' ']\n",
    "print(\"La lista srotolata in formato simil-genoma è: \\n\\t{0}\".format(lista))"
   ]
  },
  {
   "cell_type": "markdown",
   "metadata": {
    "pycharm": {
     "name": "#%% md\n"
    }
   },
   "source": [
    "    2. A questo punto creo un nuovo individuo di prova e gli assegno la lista di adiacenza srotolata come genoma."
   ]
  },
  {
   "cell_type": "code",
   "execution_count": 6,
   "metadata": {
    "pycharm": {
     "name": "#%%\n"
    }
   },
   "outputs": [
    {
     "name": "stdout",
     "output_type": "stream",
     "text": [
      "['0', '1', '2', '3', '4', '5', '1', '2', '3', '4', '5', '2', '3', '4', '5', '3', '4', '5', '4', '5', '5']\n"
     ]
    }
   ],
   "source": [
    "ind = Individual(size=10, min=1, iter_range=256)\n",
    "ind.genotype = lista\n",
    "print(ind.genotype)"
   ]
  },
  {
   "cell_type": "markdown",
   "metadata": {
    "pycharm": {
     "name": "#%% md\n"
    }
   },
   "source": [
    "Qui vediamo la correttezza dell'operazione in un verso, da grafo l'ho trasformato in genoma.\n",
    "\n",
    "Adesso il viceversa. Partendo dallo steso individuo voglio, partendo dal suo genoma, ottenere il grafo originario:\n",
    "\n",
    "    1. Faccio il reshaping del genoma in lista di adiacenza (in forma matriciale), attenzione l'etichetta dell'arco è composta da _sorgente|destinazione|index_"
   ]
  },
  {
   "cell_type": "code",
   "execution_count": 7,
   "metadata": {
    "pycharm": {
     "name": "#%%\n"
    }
   },
   "outputs": [
    {
     "name": "stdout",
     "output_type": "stream",
     "text": [
      "[['0' '104' '204' '305' '402' '505']\n",
      " ['014' '0' '215' '311' '413' '512']\n",
      " ['024' '125' '0' '322' '424' '523']\n",
      " ['035' '131' '232' '0' '435' '534']\n",
      " ['042' '143' '244' '345' '0' '545']\n",
      " ['055' '152' '253' '354' '455' '0']]\n"
     ]
    }
   ],
   "source": [
    "matrix = np.array(ind.reshape2matrix(NUM_NODES=6))\n",
    "n = matrix.shape[0]\n",
    "matrix[range(n), range(n)] = \"0\"\n",
    "print(matrix)"
   ]
  },
  {
   "cell_type": "markdown",
   "metadata": {
    "pycharm": {
     "name": "#%% md\n"
    }
   },
   "source": [
    "    2. Creo una nuova matrice dei risultati eliminando la diagonale (in realtà la pongo a zero per problemi di incompatibilità fra librerie)"
   ]
  },
  {
   "cell_type": "code",
   "execution_count": 8,
   "metadata": {
    "pycharm": {
     "name": "#%%\n"
    }
   },
   "outputs": [
    {
     "name": "stdout",
     "output_type": "stream",
     "text": [
      "[[ 0 10 20 30 40 50]\n",
      " [ 1  0 21 31 41 51]\n",
      " [ 2 12  0 32 42 52]\n",
      " [ 3 13 23  0 43 53]\n",
      " [ 4 14 24 34  0 54]\n",
      " [ 5 15 25 35 45  0]]\n"
     ]
    }
   ],
   "source": [
    "shape = matrix.shape\n",
    "result = np.zeros(shape, dtype=int)\n",
    "for x in range(0, shape[0]):\n",
    "    for y in range(0, shape[1]):\n",
    "        result[x, y] = str(matrix[x, y])[0:2]\n",
    "print(result)"
   ]
  },
  {
   "cell_type": "markdown",
   "metadata": {
    "pycharm": {
     "name": "#%% md\n"
    }
   },
   "source": [
    "    3. Visualizzazione del grafo a partire dalla lista di adiacenza, mi aspetto sia lo stesso grafo visualizzato all'inizio."
   ]
  },
  {
   "cell_type": "code",
   "execution_count": 9,
   "metadata": {
    "pycharm": {
     "name": "#%%\n"
    }
   },
   "outputs": [
    {
     "data": {
      "image/png": "[encoded data removed]",
      "text/plain": [
       "<Figure size 432x288 with 1 Axes>"
      ]
     },
     "metadata": {},
     "output_type": "display_data"
    },
    {
     "data": {
      "text/plain": [
       "<Figure size 864x864 with 0 Axes>"
      ]
     },
     "metadata": {},
     "output_type": "display_data"
    }
   ],
   "source": [
    "g = nx.from_numpy_matrix(result, create_using=nx.DiGraph)\n",
    "draw_graph(g, layout=0)"
   ]
  },
  {
   "cell_type": "markdown",
   "metadata": {
    "pycharm": {
     "name": "#%% md\n"
    }
   },
   "source": [
    "A meno di alcuni difetti dovuti alla gestione Python delle stringhe, i grafi sono gli stessi. In pratica `01` non è possibile visualizzarlo poiché diventa `1` dato che viene trattato\n",
    "come un intero e non un'etichetta.\n",
    "\n",
    "## Reshaping function\n",
    "Per riarrotolare il genoma dell'individuo devo tenere conto del fatto che il genoma è una versione undimensionale della matrice di adiacenza e che la matrice dei costi è una versione\n",
    "bidimensionale della lista di adiacenza. Sono entrambe rappresentazioni dei costi ma con forme (dimensioni) diverse. La sezione di codice che esegue l'operazione di riarrotolamento\n",
    "è la seguente:\n",
    "\n",
    "```python\n",
    "   L = max(row, col)                            # ['0', '1', '2', '3', '4', '5', '1', '2', '3', '4'\n",
    "   S = min(row, col)                            # 1° step seleziono 0 poi con l'indice L scorro verso\n",
    "   index = L * (L - 1) / 2                      # destra, ottenendo (0, 1) -> (0,2) e così via\n",
    "   index += S - 1                               # uso l'indice _index_ come terza cifra per far capire\n",
    "   index -= L                                   # a che passaggio ero quando ho ricostruito quell'arco\n",
    "   matrix[col][row] = genome[row]               # sommo (o concateno) i singoli geni del genotipo.\n",
    "   matrix[col][row] += genome[col]              # nella diagonale avrò sys.maxsize, cioè un peso infinito\n",
    "   matrix[col][row] += genome[int(index)]       # poiché non voglio archi loopback\n",
    "   ```\n",
    "\n",
    "\n",
    "\n",
    "\n",
    "\n",
    "\n",
    "\n"
   ]
  }
 ],
 "metadata": {
  "kernelspec": {
   "display_name": "Python 3",
   "language": "python",
   "name": "python3"
  },
  "language_info": {
   "codemirror_mode": {
    "name": "ipython",
    "version": 3
   },
   "file_extension": ".py",
   "mimetype": "text/x-python",
   "name": "python",
   "nbconvert_exporter": "python",
   "pygments_lexer": "ipython3",
   "version": "3.8.9"
  }
 },
 "nbformat": 4,
 "nbformat_minor": 1
}